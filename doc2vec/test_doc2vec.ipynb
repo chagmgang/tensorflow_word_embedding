{
 "cells": [
  {
   "cell_type": "markdown",
   "metadata": {},
   "source": [
    "# Doc2Vec"
   ]
  },
  {
   "cell_type": "code",
   "execution_count": 1,
   "metadata": {
    "collapsed": true
   },
   "outputs": [],
   "source": [
    "import collections\n",
    "import glob\n",
    "from itertools import chain\n",
    "import numpy as np\n",
    "import tensorflow as tf\n",
    "import matplotlib.pyplot as plt\n",
    "%matplotlib inline\n",
    "np.random.seed(1)"
   ]
  },
  {
   "cell_type": "code",
   "execution_count": 2,
   "metadata": {
    "collapsed": false
   },
   "outputs": [],
   "source": [
    "files = glob.glob('*.txt')\n",
    "\n",
    "words = []\n",
    "for f in files:\n",
    "    file = open(f)\n",
    "    words.append(file.read())\n",
    "    file.close()\n",
    "\n",
    "words = list(chain.from_iterable(words))\n",
    "words = ''.join(words)[:-1]\n",
    "sentences = words.split('\\n')"
   ]
  },
  {
   "cell_type": "code",
   "execution_count": 3,
   "metadata": {
    "collapsed": false
   },
   "outputs": [
    {
     "data": {
      "text/plain": [
       "50000"
      ]
     },
     "execution_count": 3,
     "metadata": {},
     "output_type": "execute_result"
    }
   ],
   "source": [
    "len(sentences)"
   ]
  },
  {
   "cell_type": "code",
   "execution_count": 4,
   "metadata": {
    "collapsed": false
   },
   "outputs": [
    {
     "name": "stdout",
     "output_type": "stream",
     "text": [
      "Most common words (+UNK) [['UNK', 97408], ('the', 667723), ('and', 324431), ('a', 322940), ('of', 289409)]\n",
      "Sample data [[279, 174, 436, 7068, 46, 3387, 43, 3, 15, 16, 223, 1128, 72, 1706, 1166, 37, 1, 1308, 1603, 2147, 836, 4, 61, 39, 25, 53, 172, 9, 41, 117, 23, 453, 44, 99, 4, 1, 101, 89, 4, 178, 27, 2986, 8, 1, 4181, 2, 7068, 12, 104, 25, 1654, 399, 22, 2, 92, 1502, 364, 73, 304, 33, 61, 57, 9, 117, 23, 453, 1, 104, 70, 142, 64, 453, 44, 6, 3, 53, 9647, 34287, 9806, 9245, 1, 444, 6, 24, 270, 122, 14, 516, 35, 1236, 24, 12, 127, 72, 244, 322, 184, 86, 2, 273, 56, 3784, 4, 3, 17257, 4181, 26, 62, 13216, 721, 5, 29, 1707, 121, 7068, 414, 51, 70, 25, 69, 501, 1, 302, 95, 218, 4, 10, 3890, 7068, 703, 178, 30, 44, 9245, 12, 2986, 70, 25, 556, 134, 9245, 6, 2100, 5, 29, 1, 118, 17, 56, 2515, 15677, 40, 11184, 56, 1313, 129, 7, 13, 30, 9, 96, 78, 5, 387, 37, 1596, 7, 122, 34, 519, 8], [10, 6, 34, 464, 4, 134, 1, 2216, 4, 205, 105, 25, 1, 168, 3859, 2, 347, 39, 12, 64, 163, 276, 149, 129, 3, 590, 447, 4, 1, 92, 1163, 14075, 1990, 4, 1771, 21, 2, 1771, 4935, 35, 137, 251, 13010, 107, 209, 121, 11, 32, 25, 2172, 4, 114, 2, 114, 69, 87, 21, 1246, 17, 10, 28, 141, 65, 169, 652, 518, 32009, 40, 103, 169, 835, 6095, 16, 1771, 21, 40, 18426, 1489, 1, 2810, 1981, 2826, 40, 2377, 16, 1771, 4935, 2, 65, 1, 145, 782, 1771, 21, 12, 2236, 7090, 408, 610, 164, 10, 19, 16677, 31, 1, 2651, 2, 9, 139, 131, 1528, 47, 1, 2128, 942, 5708, 13, 400, 8, 10, 19, 2, 134, 1, 2128, 125, 24, 212, 285, 1, 2524, 168, 104, 37, 2015, 18419, 171, 19, 9, 137, 108, 17, 942, 5708, 46, 86, 392, 1, 2524, 168, 2041, 104, 2, 31, 222, 8, 2015, 26, 104, 1060, 61, 90, 7, 661, 15895, 435, 10, 6, 334, 950, 205, 1140, 39, 25, 3545, 127, 105, 5, 65, 2, 45, 20, 64, 180, 5, 65, 10, 28, 103, 7842, 308, 61, 6, 2395, 3, 10716, 940, 18, 46, 127, 114, 2, 3, 127, 225, 1, 62, 148, 11, 90, 10, 31, 30, 276, 149, 13, 3, 530, 515, 22, 1, 349, 1, 620, 13, 216, 2512, 61, 270, 493, 5, 231, 55, 16, 1, 486, 19, 388, 18, 23, 181]]\n"
     ]
    }
   ],
   "source": [
    "vocabulary_size = 40000\n",
    "\n",
    "def build_dataset(sentences):\n",
    "    words = ''.join(sentences).split()\n",
    "    count = [['UNK', -1]]\n",
    "    count.extend(collections.Counter(words).most_common(vocabulary_size - 1))\n",
    "    dictionary = dict()\n",
    "    for word, _ in count:\n",
    "        dictionary[word] = len(dictionary)\n",
    "    \n",
    "    unk_count = 0\n",
    "    sent_data = []\n",
    "    for sentence in sentences:\n",
    "        data = []\n",
    "        for word in sentence.split():\n",
    "            if word in dictionary:\n",
    "                index = dictionary[word]\n",
    "            else:\n",
    "                index = 0  # dictionary['UNK']\n",
    "                unk_count = unk_count + 1\n",
    "            data.append(index)\n",
    "        sent_data.append(data)\n",
    "    \n",
    "    count[0][1] = unk_count\n",
    "    reverse_dictionary = dict(zip(dictionary.values(), dictionary.keys())) \n",
    "    return sent_data, count, dictionary, reverse_dictionary\n",
    "\n",
    "data, count, dictionary, reverse_dictionary = build_dataset(sentences)\n",
    "print('Most common words (+UNK)', count[:5])\n",
    "print('Sample data', data[:2])\n",
    "# del words  # Hint to reduce memory."
   ]
  },
  {
   "cell_type": "markdown",
   "metadata": {},
   "source": [
    "## Tensorflow Model"
   ]
  },
  {
   "cell_type": "code",
   "execution_count": 5,
   "metadata": {
    "collapsed": false
   },
   "outputs": [
    {
     "name": "stdout",
     "output_type": "stream",
     "text": [
      "11708957\n"
     ]
    }
   ],
   "source": [
    "skip_window = 3\n",
    "instances = 0\n",
    "\n",
    "# Pad sentence with skip_windows\n",
    "for i in range(len(data)):\n",
    "    data[i] = [vocabulary_size]*skip_window+data[i]+[vocabulary_size]*skip_window\n",
    "\n",
    "# Check how many training samples that we get    \n",
    "for sentence  in data:\n",
    "    instances += len(sentence)-2*skip_window\n",
    "print(instances)    "
   ]
  },
  {
   "cell_type": "code",
   "execution_count": 6,
   "metadata": {
    "collapsed": false
   },
   "outputs": [
    {
     "data": {
      "image/png": "[encoded data removed]",
      "text/plain": [
       "<matplotlib.figure.Figure at 0x1204861d0>"
      ]
     },
     "metadata": {},
     "output_type": "display_data"
    }
   ],
   "source": [
    "sent_len = np.array([len(d) for d in data])\n",
    "plt.hist(sent_len,100)\n",
    "plt.show()"
   ]
  },
  {
   "cell_type": "code",
   "execution_count": 9,
   "metadata": {
    "collapsed": true
   },
   "outputs": [],
   "source": [
    "context = np.zeros((instances,skip_window*2+1),dtype=np.int32)\n",
    "labels = np.zeros((instances,1),dtype=np.int32)\n",
    "doc = np.zeros((instances,1),dtype=np.int32)\n",
    "\n",
    "k = 0\n",
    "for doc_id, sentence  in enumerate(data):\n",
    "    for i in range(skip_window, len(sentence)-skip_window):\n",
    "#         buffer = sentence[i-skip_window:i+skip_window+1]\n",
    "#         labels[k] = sentence[i]\n",
    "#         del buffer[skip_window]\n",
    "#         context[k] = buffer\n",
    "#         doc[k] = doc_id\n",
    "#         k += 1\n",
    "        context[k] = sentence[i-skip_window:i+skip_window+1] # Get surrounding words\n",
    "        labels[k] = sentence[i] # Get target variable\n",
    "        doc[k] = doc_id\n",
    "        k += 1\n",
    "        \n",
    "context = np.delete(context,skip_window,1) # delete the middle word        \n",
    "        \n",
    "shuffle_idx = np.random.permutation(k)\n",
    "labels = labels[shuffle_idx]\n",
    "doc = doc[shuffle_idx]\n",
    "context = context[shuffle_idx]"
   ]
  },
  {
   "cell_type": "code",
   "execution_count": 16,
   "metadata": {
    "collapsed": false,
    "scrolled": true
   },
   "outputs": [],
   "source": [
    "batch_size = 256\n",
    "context_window = 2*skip_window\n",
    "embedding_size = 50 # Dimension of the embedding vector.\n",
    "softmax_width = embedding_size # +embedding_size2+embedding_size3\n",
    "num_sampled = 5 # Number of negative examples to sample.\n",
    "sum_ids = np.repeat(np.arange(batch_size),context_window)\n",
    "\n",
    "len_docs = len(data)\n",
    "\n",
    "graph = tf.Graph()\n",
    "\n",
    "with graph.as_default(): # , tf.device('/cpu:0')\n",
    "    # Input data.\n",
    "    train_word_dataset = tf.placeholder(tf.int32, shape=[batch_size*context_window])\n",
    "    train_doc_dataset = tf.placeholder(tf.int32, shape=[batch_size])\n",
    "    train_labels = tf.placeholder(tf.int32, shape=[batch_size, 1])\n",
    "\n",
    "    segment_ids = tf.constant(sum_ids, dtype=tf.int32)\n",
    "\n",
    "    word_embeddings = tf.Variable(tf.random_uniform([vocabulary_size,embedding_size],-1.0,1.0))\n",
    "    word_embeddings = tf.concat([word_embeddings,tf.zeros((1,embedding_size))],0)\n",
    "    doc_embeddings = tf.Variable(tf.random_uniform([len_docs,embedding_size],-1.0,1.0))\n",
    "\n",
    "    softmax_weights = tf.Variable(tf.truncated_normal([vocabulary_size, softmax_width],\n",
    "                             stddev=1.0 / np.sqrt(embedding_size)))\n",
    "    softmax_biases = tf.Variable(tf.zeros([vocabulary_size]))\n",
    "\n",
    "    # Model.\n",
    "    # Look up embeddings for inputs.\n",
    "    embed_words = tf.segment_mean(tf.nn.embedding_lookup(word_embeddings, train_word_dataset),segment_ids)\n",
    "    embed_docs = tf.nn.embedding_lookup(doc_embeddings, train_doc_dataset)\n",
    "    embed = (embed_words+embed_docs)/2.0#+embed_hash+embed_users\n",
    "\n",
    "    # Compute the softmax loss, using a sample of the negative labels each time.\n",
    "    loss = tf.reduce_mean(tf.nn.nce_loss(softmax_weights, softmax_biases, train_labels, \n",
    "                                         embed, num_sampled, vocabulary_size))\n",
    "\n",
    "    # Optimizer.\n",
    "    optimizer = tf.train.AdagradOptimizer(0.5).minimize(loss)\n",
    "        \n",
    "    norm = tf.sqrt(tf.reduce_sum(tf.square(doc_embeddings), 1, keep_dims=True))\n",
    "    normalized_doc_embeddings = doc_embeddings / norm"
   ]
  },
  {
   "cell_type": "code",
   "execution_count": 17,
   "metadata": {
    "collapsed": true
   },
   "outputs": [],
   "source": [
    "############################\n",
    "# Chunk the data to be passed into the tensorflow Model\n",
    "###########################\n",
    "data_idx = 0\n",
    "def generate_batch(batch_size):\n",
    "    global data_idx\n",
    "\n",
    "    if data_idx+batch_size<instances:\n",
    "        batch_labels = labels[data_idx:data_idx+batch_size]\n",
    "        batch_doc_data = doc[data_idx:data_idx+batch_size]\n",
    "        batch_word_data = context[data_idx:data_idx+batch_size]\n",
    "        data_idx += batch_size\n",
    "    else:\n",
    "        overlay = batch_size - (instances-data_idx)\n",
    "        batch_labels = np.vstack([labels[data_idx:instances],labels[:overlay]])\n",
    "        batch_doc_data = np.vstack([doc[data_idx:instances],doc[:overlay]])\n",
    "        batch_word_data = np.vstack([context[data_idx:instances],context[:overlay]])\n",
    "        data_idx = overlay\n",
    "    batch_word_data = np.reshape(batch_word_data,(-1,1))\n",
    "\n",
    "    return batch_labels, batch_word_data, batch_doc_data"
   ]
  },
  {
   "cell_type": "code",
   "execution_count": null,
   "metadata": {
    "collapsed": false
   },
   "outputs": [
    {
     "name": "stdout",
     "output_type": "stream",
     "text": [
      "Initialized\n",
      "Average loss at step 0: 20.908936\n"
     ]
    }
   ],
   "source": [
    "num_steps = 1000001\n",
    "step_delta = int(num_steps/20)\n",
    "\n",
    "with tf.Session(graph=graph) as session:\n",
    "    tf.global_variables_initializer().run()\n",
    "    print('Initialized')\n",
    "    average_loss = 0\n",
    "    for step in range(num_steps):\n",
    "        batch_labels, batch_word_data, batch_doc_data\\\n",
    "        = generate_batch(batch_size)\n",
    "        feed_dict = {train_word_dataset : np.squeeze(batch_word_data),\n",
    "                     train_doc_dataset : np.squeeze(batch_doc_data),\n",
    "                     train_labels : batch_labels}\n",
    "        _, l = session.run([optimizer, loss], feed_dict=feed_dict)\n",
    "        average_loss += l\n",
    "        if step % step_delta == 0:\n",
    "            if step > 0:\n",
    "                average_loss = average_loss / step_delta\n",
    "            # The average loss is an estimate of the loss over the last 2000 batches.\n",
    "            print('Average loss at step %d: %f' % (step, average_loss))\n",
    "            average_loss = 0\n",
    "\n",
    "    # Get the weights to save for later\n",
    "#     final_doc_embeddings = normalized_doc_embeddings.eval()\n",
    "    final_word_embeddings = word_embeddings.eval()\n",
    "    final_word_embeddings_out = softmax_weights.eval()\n",
    "    final_doc_embeddings = normalized_doc_embeddings.eval()"
   ]
  },
  {
   "cell_type": "code",
   "execution_count": 61,
   "metadata": {
    "collapsed": false
   },
   "outputs": [
    {
     "name": "stdout",
     "output_type": "stream",
     "text": [
      "1.0\n",
      "0.529682\n",
      "0.520041\n",
      "0.516757\n",
      "-0.588134\n"
     ]
    }
   ],
   "source": [
    "# rand_doc = np.random.randint(len_docs)\n",
    "dist = final_doc_embeddings.dot(final_doc_embeddings[rand_doc][:,None])\n",
    "closest_doc = np.argsort(dist,axis=0)[-4:][::-1]\n",
    "furthest_doc = np.argsort(dist,axis=0)[0][::-1]\n",
    "\n",
    "for idx in closest_doc:\n",
    "    print(dist[idx][0][0])\n",
    "    \n",
    "print(dist[furthest_doc][0][0])    "
   ]
  },
  {
   "cell_type": "code",
   "execution_count": 59,
   "metadata": {
    "collapsed": false
   },
   "outputs": [
    {
     "data": {
      "image/png": "[encoded data removed]",
      "text/plain": [
       "<matplotlib.figure.Figure at 0x1dd2de2e8>"
      ]
     },
     "metadata": {},
     "output_type": "display_data"
    }
   ],
   "source": [
    "plt.hist(dist,100)\n",
    "plt.show()"
   ]
  },
  {
   "cell_type": "code",
   "execution_count": 55,
   "metadata": {
    "collapsed": false
   },
   "outputs": [
    {
     "data": {
      "text/plain": [
       "'this show comes up with interesting locations as fast as the travel channel it is billed as reality but in actuality it is pure prime time soap opera it s tries to use exotic locales as a facade to bring people into a phony contest then proceeds to hook viewers on the contestants soap opera style it also borrows from an early cbs game show pioneer beat the clock by inventing situations for its contestants to try overcome then it rewards the winner money if they can spice it up with a little interaction between the characters even better while the game format is in slow motion versus beat the clock the real accomplishment of this series is to escape reality this show has elements of several types of successful past programs reality television hardly but if your hooked on the contestants locale or contest this is your cup of tea if your not this entire series is as i say drivel dripping with gravy it is another show hiding behind the reality label which is the trend it started in it is slick well produced so it might last a while yet after all so do re runs of gilligan s island green acres the beverly hillbillies the brady bunch this just doesn t employ professional actors the intelligence level is about the same '"
      ]
     },
     "execution_count": 55,
     "metadata": {},
     "output_type": "execute_result"
    }
   ],
   "source": [
    "sentences[rand_doc]"
   ]
  },
  {
   "cell_type": "code",
   "execution_count": 56,
   "metadata": {
    "collapsed": false
   },
   "outputs": [
    {
     "data": {
      "text/plain": [
       "'in a way you have to respect arachnia it s clearly meant as a tribute to the big bug movies of the fifties and while the special effects look terrible at least the film doesn t feature cgi however on the other hand you can t respect the film too much because it s a load of rubbish the acting is terrible the special effects as mentioned are impossible to take seriously and once you ve seen one giant spider being blown up you ve seen them all so it gets boring rather quickly the plot follows a bunch of people who are unlucky enough to be in a plane crash after a meteor shower they go to the only house in the area which just happens to be a house where a man has a huge spider he used to use as a circus attraction coincidently around the same time the meteor shower has caused more giant spiders to rise from underground all the characters in this film are poor caricatures none of them have anything even resembling a third dimension and they will soon begin to thoroughly bore you you ve got to feel for director brett piper as he clearly didn t have much to work with for this film but that doesn t make arachnia worth a damn and overall there are better giant bug films than this and therefore arachnia doesn t get the seal of approval from me '"
      ]
     },
     "execution_count": 56,
     "metadata": {},
     "output_type": "execute_result"
    }
   ],
   "source": [
    "sentences[closest_doc[1][0]]"
   ]
  },
  {
   "cell_type": "code",
   "execution_count": 57,
   "metadata": {
    "collapsed": false
   },
   "outputs": [
    {
     "data": {
      "text/plain": [
       "'star rating saturday night friday night friday morning sunday night monday morning mr bean rowan atkinson is in this world but not of this world his mind simply doesn t seem to comprehend things the way an average person would and his life is one long disaster because of this getting himself into constant mishaps and far out zany situations which he is left to sort out on his own as he doesn t seem to mix with anyone and he rarely speaks but he never gives up and despite the simplest of tasks being a constant struggle for him applying his own zany methods of solving the problem always pays off for him in the end to look at the sorry state of modern british humour with all it s focus of sex and general vulgarity you d be forgiven for forgetting that a show like mr bean was made at one time there s nothing unsuitable going on here just good clean u rated humour of the type tommy cooper and the like made in the s and i find it just as laugh out loud funny now in my early s as i did when i was a young boy in the early s although i can look at it a little deeper now and see there must be more to this character than than meets the eye there must be a reason why he does things the way he does and things seem to keep going wrong for him as others have noted it looks like he may have a type of autism in fact i m so convinced about it that i really think were a professional psychologist to analyse him i think mr bean could be the first famous fictional character to be diagnosed with something like asperger s syndrome if you d like to see some truly hilarious british humour at it s very best before it all became obsessed with sex and vulgarity then this would come highly recommended shows like little britain do work because it s well realised but it s really just as vulgar as the rest shows like this show we were more restrained and civilised once and hopefully we might start putting out this type of humour more again sometime soon '"
      ]
     },
     "execution_count": 57,
     "metadata": {},
     "output_type": "execute_result"
    }
   ],
   "source": [
    "sentences[closest_doc[2][0]]"
   ]
  },
  {
   "cell_type": "code",
   "execution_count": 58,
   "metadata": {
    "collapsed": false
   },
   "outputs": [
    {
     "data": {
      "text/plain": [
       "'when i went to see this movie it was already a forced choice as my original intent was sold out what ensuited then was sheer terror this movie is so bad i could hardly bear it the story is not worth mention a gay goalkeeper forms a gay soccer team to play against his old straight team who on discovering his sexual orientation gave him a hard time loaded with unbearably old and overused clich s of gays the thin plot matches perfectly the inane dialogues it is absolutely astonishing that actors as dietmar b r or charly h bner waste their talent and time on such nonsense '"
      ]
     },
     "execution_count": 58,
     "metadata": {},
     "output_type": "execute_result"
    }
   ],
   "source": [
    "sentences[closest_doc[3][0]]"
   ]
  },
  {
   "cell_type": "code",
   "execution_count": 64,
   "metadata": {
    "collapsed": false
   },
   "outputs": [
    {
     "data": {
      "text/plain": [
       "'wwii veterans return home and find it hard to adjust to civilian life this superb drama is expertly directed by wyler and beautifully filmed by famed cinematographer toland despite its near three hour length it does not drag for a minute the script by sherwood features very human characters and great dialog andrews has perhaps his best role as a man struggling to make ends meet also good are wright as a love sick young woman mayo as andrews trampy wife and real life veteran russell as a man who lost both his hands however top honors go to march and loy as a long married couple facing challenges while getting reacquainted with each other '"
      ]
     },
     "execution_count": 64,
     "metadata": {},
     "output_type": "execute_result"
    }
   ],
   "source": [
    "sentences[furthest_doc[0]]"
   ]
  },
  {
   "cell_type": "code",
   "execution_count": 124,
   "metadata": {
    "collapsed": false
   },
   "outputs": [
    {
     "data": {
      "image/png": "[encoded data removed]",
      "text/plain": [
       "<matplotlib.figure.Figure at 0x130f70fd0>"
      ]
     },
     "metadata": {},
     "output_type": "display_data"
    }
   ],
   "source": [
    "import matplotlib.pyplot as plt\n",
    "%matplotlib inline\n",
    "\n",
    "plt.hist(dist,100)\n",
    "plt.show()"
   ]
  },
  {
   "cell_type": "markdown",
   "metadata": {},
   "source": [
    "## Gensim Model"
   ]
  },
  {
   "cell_type": "code",
   "execution_count": 65,
   "metadata": {
    "collapsed": false
   },
   "outputs": [
    {
     "name": "stderr",
     "output_type": "stream",
     "text": [
      "/Users/sachin/anaconda/lib/python3.5/site-packages/gensim/utils.py:1015: UserWarning: Pattern library is not installed, lemmatization won't be available.\n",
      "  warnings.warn(\"Pattern library is not installed, lemmatization won't be available.\")\n"
     ]
    }
   ],
   "source": [
    "import gensim\n",
    "from gensim.models import Doc2Vec\n",
    "from multiprocessing import cpu_count\n",
    "\n",
    "cpus = cpu_count()"
   ]
  },
  {
   "cell_type": "code",
   "execution_count": 66,
   "metadata": {
    "collapsed": false
   },
   "outputs": [],
   "source": [
    "def read_corpus():\n",
    "    for i,sentence in enumerate(words.split('\\n')):\n",
    "        yield gensim.models.doc2vec.TaggedDocument(gensim.utils.simple_preprocess(sentence), [i])\n",
    "\n",
    "train_corpus = list(read_corpus())"
   ]
  },
  {
   "cell_type": "code",
   "execution_count": 155,
   "metadata": {
    "collapsed": true
   },
   "outputs": [],
   "source": [
    "model = Doc2Vec(dm=1, dm_concat=0, size=embedding_size, window=skip_window, \n",
    "                negative=5,hs=0, min_count=5, workers=cpus, iter=2)\n",
    "model.build_vocab(train_corpus)"
   ]
  },
  {
   "cell_type": "code",
   "execution_count": 156,
   "metadata": {
    "collapsed": false
   },
   "outputs": [
    {
     "name": "stdout",
     "output_type": "stream",
     "text": [
      "CPU times: user 26min 22s, sys: 1.86 s, total: 26min 23s\n",
      "Wall time: 3min 26s\n"
     ]
    },
    {
     "data": {
      "text/plain": [
       "21854570"
      ]
     },
     "execution_count": 156,
     "metadata": {},
     "output_type": "execute_result"
    }
   ],
   "source": [
    "%%time\n",
    "model.train(train_corpus)"
   ]
  },
  {
   "cell_type": "code",
   "execution_count": 182,
   "metadata": {
    "collapsed": false
   },
   "outputs": [
    {
     "name": "stdout",
     "output_type": "stream",
     "text": [
      "1.0\n",
      "0.8846234083175659\n",
      "0.8725295066833496\n",
      "0.8673354387283325\n"
     ]
    }
   ],
   "source": [
    "closest_doc2 = model.docvecs.most_similar([model.docvecs[rand_doc]],topn=4)\n",
    "for _, sim in closest_doc2:\n",
    "    print(sim)"
   ]
  },
  {
   "cell_type": "code",
   "execution_count": 178,
   "metadata": {
    "collapsed": false
   },
   "outputs": [
    {
     "data": {
      "text/plain": [
       "'peter crawford discovers a comet on a collision course with the moon but when the government doesn t believe him dumb fact he builds a shelter in deep underground and is drawing lots to see who will go plus is willing to kill to save humanity dumb fact with millions of dollars of technology how could a civilian see what nasa could not plus the ends justifies the means moral of this story is just plain wrong this movie is improbable and totally unbelievable what was running through these people minds why the hell do crap piles like this get the green light some times i wonder who someone has to to get a movie made in this ing town '"
      ]
     },
     "execution_count": 178,
     "metadata": {},
     "output_type": "execute_result"
    }
   ],
   "source": [
    "sentences[rand_doc]"
   ]
  },
  {
   "cell_type": "code",
   "execution_count": 179,
   "metadata": {
    "collapsed": false
   },
   "outputs": [
    {
     "data": {
      "text/plain": [
       "'the title of this documentary is very misleading at no time during the documentary do they show how the introduction of the nile perch fish into lake victoria has cause any of the problems facing the town of mwanza tanzania the film tries to place the problems of tanzania on an environmental cause but the truth of that matter is the problems stem from a parasitic outside force the documentary is very slowing paced with no narrative what so ever instead it relies on small blips of text between none related segments to display bits of information that do little to add or expand of the subject matter there are only two attempts to discus the environmental effects of the nile perch fish one is a small segment about seconds long where they interview the factory managers where the fish is processed and he briefly mentions how years ago the nile perch was introduced into the lake and it consumed the other fish species the film maker makes no attempt to follow up on the matter or go deeper into it the second attempt is when within this documentary they film the showing of another documentary that is discussing the environmental impact the nile perch has introduced and again no real attempt is made to expand on just how devastating the problem has become the subject matter that this documentary does delve into has nothing to do with the perch fish itself and more to do with the problems facing most african countries the film tries to link the introduction of the perch fish with aids poverty and pollution in tanzania but never makes a direct connection as any intelligent person well read with problems in africa the problems shown here are not unique to tanzania but affect most of africa and have nothing to do with the fish it would have been great if the film makers would have shown how the local economy or life was before the fish was introduced and how it has been negatively impacted by the introduction of the fish but they don t the fact of the matter is that many of the people they interview say that the fish has provided jobs and opportunity for many yes things are bad within the town of mwanza but they are far worst in other parts of the country and continent for that matter a weak attempt by the documentary makers to link the fish to famine problems in tanzania is quickly discredited by the documentary itself first off tanzania is a very large country and lake victoria is only a small portion of the country many of the individuals interview actually say that they can to mwanza the fishing town on the lake to find a job and feed their families because things were so bad in other parts of the country this documentary is very weak has no narrative and makes no attempt to actually link anything they display to the nile perch it plays on people s emotions by displaying images of the devastation of poverty famine and aids making no attempt to show you how any of this is unique to the lake victoria region of tanzania or directly related to the perch fish the fact is most of the problems have more to do with war globalization and christianity than and environmental effect of the perch fish itself '"
      ]
     },
     "execution_count": 179,
     "metadata": {},
     "output_type": "execute_result"
    }
   ],
   "source": [
    "sentences[closest_doc2[1][0]]"
   ]
  },
  {
   "cell_type": "code",
   "execution_count": 180,
   "metadata": {
    "collapsed": false
   },
   "outputs": [
    {
     "data": {
      "text/plain": [
       "'this could have been great the voice overs are exactly right and fit the characters to a t one small problem though the look of the characters mostly the supporting or guest characters look exactly the same the same bored look on every face only with minor changes such as hairlines or weight size it looks kind of odd to see a really big guest star s voice coming out of a lifeless form like the characters here if i am not mistaken kathy griffin did a voice over for this show and it looked too odd to be funny there is a few other problems one being the family plot the simpsons did it much better where you could actually buy most of the situations the characters got themselves into here we get too much annoying diversions like someone having a weird fantasy and then we are supposed to find that funny but for some reason the delivery is a bit off as you can probably tell it is hard for me to put a finger on exactly what is wrong with this show because it basically nothing more than a clone of the simpsons or even more married with children if i should point a finger on what is totally wrong with this it probably is it s repetitiveness peter griffin is not really a bright character but neither are any of the others lois should have been named lois lame because she is sort of one dimensional seth green as the kind of retarded son is the best thing about this show and that is the most stereotypical part on the show so what more can i say there isn t exactly anything wrong with this show but in the long run you have to admit that it takes a lot of work to do what the simpsons has done for almost two decades '"
      ]
     },
     "execution_count": 180,
     "metadata": {},
     "output_type": "execute_result"
    }
   ],
   "source": [
    "sentences[closest_doc2[2][0]]"
   ]
  },
  {
   "cell_type": "code",
   "execution_count": 181,
   "metadata": {
    "collapsed": false
   },
   "outputs": [
    {
     "data": {
      "text/plain": [
       "'i like many folks believe the epic lonesome dove was one of the best westerns ever produced maybe the best and realizing that most sequels in this case a prequel are certain to disappoint my expectations were low comanche moon met that expectation with its marginal directing and acting poor casting and frankly a lousy script lonesome dove created western heroes of captains mccrae and call due to incredibly strong performances by robert duvall and tommy lee jones prior to living in lonesome dove we believed they bravely fought to rid texas of bandits and savage indians during their rangering years if i had only seen comanche moon i would think these two boneheads were a couple of incompetent cowardly idiots in lonesome dove call and mccrae supposedly chased blue duck all over texas and never managed to capture or kill him in comanche moon a shot to call s boot heel convinced him to settle down and raise cattle there wasn t a decent fistfight or gun fight in the entire miniseries the best punch was mccrea sucker punching inez scull a funny scene but out of character for mccrae where was mccrae s wit and charm clara s love for mccrae a drunken unshaven slob and philanderer was completely implausible and maggie s love for call a dispassionate and sullen loner defies logic the cinematography was excellent superior to the original credit goes not only to hd technology but the cinematographer the comanche moon miniseries was better than anything else on tv for three nights but sadly that s not saying much '"
      ]
     },
     "execution_count": 181,
     "metadata": {},
     "output_type": "execute_result"
    }
   ],
   "source": [
    "sentences[closest_doc2[3][0]]"
   ]
  },
  {
   "cell_type": "code",
   "execution_count": 189,
   "metadata": {
    "collapsed": false
   },
   "outputs": [
    {
     "data": {
      "text/plain": [
       "(50000, 50)"
      ]
     },
     "execution_count": 189,
     "metadata": {},
     "output_type": "execute_result"
    }
   ],
   "source": []
  },
  {
   "cell_type": "code",
   "execution_count": 196,
   "metadata": {
    "collapsed": false
   },
   "outputs": [
    {
     "data": {
      "text/plain": [
       "0.88462347"
      ]
     },
     "execution_count": 196,
     "metadata": {},
     "output_type": "execute_result"
    }
   ],
   "source": [
    "norm_vec = np.array([vec for vec in model.docvecs])\n",
    "norm_vec = norm_vec/np.sqrt(np.sum(np.square(norm_vec),axis=1,keepdims=True))\n",
    "\n",
    "norm_vec[rand_doc].dot(norm_vec[closest_doc2[1][0]])"
   ]
  },
  {
   "cell_type": "code",
   "execution_count": null,
   "metadata": {
    "collapsed": true
   },
   "outputs": [],
   "source": []
  }
 ],
 "metadata": {
  "anaconda-cloud": {},
  "kernelspec": {
   "display_name": "Python [conda root]",
   "language": "python",
   "name": "conda-root-py"
  },
  "language_info": {
   "codemirror_mode": {
    "name": "ipython",
    "version": 3
   },
   "file_extension": ".py",
   "mimetype": "text/x-python",
   "name": "python",
   "nbconvert_exporter": "python",
   "pygments_lexer": "ipython3",
   "version": "3.5.2"
  },
  "latex_envs": {
   "bibliofile": "biblio.bib",
   "cite_by": "apalike",
   "current_citInitial": 1,
   "eqLabelWithNumbers": true,
   "eqNumInitial": 0
  }
 },
 "nbformat": 4,
 "nbformat_minor": 1
}
